{
 "cells": [
  {
   "cell_type": "code",
   "execution_count": 3,
   "id": "dee46089-1e65-4467-acba-df5bd3e668e6",
   "metadata": {},
   "outputs": [],
   "source": [
    "import matplotlib.pyplot as plt\n",
    "import numpy as np\n",
    "a = np.array([[0, 0, 0, 0, 0], \n",
    "              [0, 1, 1, 0, 0.5], \n",
    "              [1, 0, 1, 0, 0.5]])\n",
    "\n",
    "b = np.array([[0, 0, 0, 0, 0], \n",
    "              [0, 2, 2, 0, 0.5], \n",
    "              [2, 0, 2, 0, 0.5]])\n",
    "\n",
    "c = np.array([[1, 0, 1, 0, 0.5], \n",
    "              [0, 0, 0, 0, 0], \n",
    "              [0, 1, 1, 0, 0.5]])"
   ]
  },
  {
   "cell_type": "code",
   "execution_count": 77,
   "id": "0ccffd79-2b92-4b05-a822-6a3f2a3cc241",
   "metadata": {},
   "outputs": [],
   "source": [
    "def proc(arr):\n",
    "    res_vec = list()\n",
    "    for i in arr:\n",
    "        if not res_vec:\n",
    "            res_vec.append(i)\n",
    "        else:\n",
    "            tmp = i.copy()\n",
    "            for j in res_vec:\n",
    "                tmp -=  j * np.dot(i, j)/np.dot(j, j)\n",
    "            if (tmp != 0).any():\n",
    "                res_vec.append(tmp)\n",
    "    return np.array(res_vec)"
   ]
  },
  {
   "cell_type": "code",
   "execution_count": 27,
   "id": "3d7c6dcd-de96-46f4-9531-558da973cc80",
   "metadata": {},
   "outputs": [],
   "source": [
    "transform_matrix = [\n",
    "    np.array([[1, 0, 0],\n",
    "             [0, 1, 0], \n",
    "             [0, 0, 1]]),  \n",
    "]\n",
    "bias = np.array([[1, 0, 0],\n",
    "             [1, 0, 0], \n",
    "             [1, 0, 0],\n",
    "             [1, 0, 0],\n",
    "             [1, 0, 0]])"
   ]
  },
  {
   "cell_type": "code",
   "execution_count": 70,
   "id": "929afe55-19c3-4518-bfb5-53e33f1daad0",
   "metadata": {},
   "outputs": [
    {
     "name": "stdout",
     "output_type": "stream",
     "text": [
      "[[1.  0. ]\n",
      " [0.  1. ]\n",
      " [1.  1. ]\n",
      " [0.  0. ]\n",
      " [0.5 0.5]]\n"
     ]
    }
   ],
   "source": [
    "for i in transform_matrix:\n",
    "        instance = np.dot(a.T, i)\n",
    "        print(np.dot(instance, proc(instance).T))\n",
    "        \n",
    "#         print()\n",
    "#         print(np.linalg.svd(instance))\n",
    "#         print()\n",
    "#         instance += bais\n",
    "#         print(\"With bias :\",  proc(instance))\n",
    "#         print()\n",
    "#         print(np.linalg.svd(instance))\n",
    "#         print()"
   ]
  },
  {
   "cell_type": "code",
   "execution_count": 33,
   "id": "b4fa6916-922f-4044-b752-90c9733d30c4",
   "metadata": {},
   "outputs": [
    {
     "data": {
      "text/plain": [
       "array([[0., 1., 0.],\n",
       "       [0., 0., 1.]])"
      ]
     },
     "execution_count": 33,
     "metadata": {},
     "output_type": "execute_result"
    }
   ],
   "source": [
    "t = np.array([[0, 0, 0, 0, 0],\n",
    "             [1, 0, 0, 1, 0.5], \n",
    "             [0, 1, 0, 1, 0.5]])\n",
    "np.dot(t.T, proc(t.T).T)\n",
    "proc(t.T)"
   ]
  },
  {
   "cell_type": "code",
   "execution_count": 69,
   "id": "5870d20d-5c27-4b13-a62c-fb5300d09ac9",
   "metadata": {},
   "outputs": [
    {
     "name": "stdout",
     "output_type": "stream",
     "text": [
      "[[1.  0. ]\n",
      " [0.  1. ]\n",
      " [1.  1. ]\n",
      " [0.  0. ]\n",
      " [0.5 0.5]]\n",
      "[[1.  0. ]\n",
      " [0.  1. ]\n",
      " [1.  1. ]\n",
      " [0.  0. ]\n",
      " [0.5 0.5]]\n"
     ]
    },
    {
     "data": {
      "text/plain": [
       "array([[ 0. ,  0. , -1. ],\n",
       "       [ 0. , -1. ,  0. ],\n",
       "       [ 0. , -1. , -1. ],\n",
       "       [ 0. ,  0. ,  0. ],\n",
       "       [ 0. , -0.5, -0.5]])"
      ]
     },
     "execution_count": 69,
     "metadata": {},
     "output_type": "execute_result"
    }
   ],
   "source": [
    "s = np.dot(s, transform_matrix[0])\n",
    "np.dot(s, proc(s).T)\n",
    "# s\n",
    "f  = proc(s).T\n",
    "g  = proc(a.T).T\n",
    "# proc(s.T)\n",
    "print(np.dot(a.T, g))\n",
    "print(np.dot(s, f))\n",
    "np.dot(s, transform_matrix[0])"
   ]
  },
  {
   "cell_type": "code",
   "execution_count": 78,
   "id": "53261de1-1c61-42ef-8486-a22c63f608d7",
   "metadata": {},
   "outputs": [],
   "source": [
    "test = np.array([[0, 0, 0, 0, 0],\n",
    "                [1, 0, 0, 1, 0.5],\n",
    "                [0, 1, 0, 1, 0.5]])"
   ]
  },
  {
   "cell_type": "code",
   "execution_count": 82,
   "id": "b33e817a-cc66-4298-9ca1-aa58b5b91bec",
   "metadata": {},
   "outputs": [
    {
     "data": {
      "text/plain": [
       "array([[1. , 0. ],\n",
       "       [0. , 1. ],\n",
       "       [0. , 0. ],\n",
       "       [1. , 1. ],\n",
       "       [0.5, 0.5]])"
      ]
     },
     "execution_count": 82,
     "metadata": {},
     "output_type": "execute_result"
    }
   ],
   "source": [
    "np.dot(a, )"
   ]
  }
 ],
 "metadata": {
  "kernelspec": {
   "display_name": "Python 3 (ipykernel)",
   "language": "python",
   "name": "python3"
  },
  "language_info": {
   "codemirror_mode": {
    "name": "ipython",
    "version": 3
   },
   "file_extension": ".py",
   "mimetype": "text/x-python",
   "name": "python",
   "nbconvert_exporter": "python",
   "pygments_lexer": "ipython3",
   "version": "3.8.10"
  }
 },
 "nbformat": 4,
 "nbformat_minor": 5
}
